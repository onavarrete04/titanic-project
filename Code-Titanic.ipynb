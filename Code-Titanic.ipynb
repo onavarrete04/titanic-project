{
 "cells": [
  {
   "cell_type": "code",
   "execution_count": 1,
   "id": "92b2c258",
   "metadata": {},
   "outputs": [],
   "source": [
    "import numpy as np\n",
    "import pandas as pd\n",
    "\n",
    "from sklearn.preprocessing import LabelEncoder\n",
    "# sirve para preparar datos\n",
    "\n",
    "from sklearn.tree import DecisionTreeClassifier\n",
    "# crea el arbol de decisiones\n",
    "\n",
    "from sklearn.model_selection import train_test_split\n",
    "# para evaluar el modelo\n",
    "\n",
    "from sklearn.metrics import accuracy_score\n",
    "# visualizar el arbol\n",
    "\n",
    "import matplotlib.pyplot as plt\n",
    "from sklearn import tree\n",
    "\n",
    "# reporte de metricas\n",
    "from sklearn.metrics import confusion_matrix, classification_report, precision_score, recall_score, f1_score\n",
    "\n",
    "\n",
    "#para hiperparametros - busqueda mejor hiperparametro\n",
    "from sklearn.model_selection import GridSearchCV\n",
    "\n",
    "# Validación cruzada\n",
    "\n",
    "from sklearn.model_selection import KFold"
   ]
  },
  {
   "cell_type": "code",
   "execution_count": 2,
   "id": "4dc39658",
   "metadata": {},
   "outputs": [
    {
     "data": {
      "text/plain": [
       "PassengerId      0\n",
       "Survived         0\n",
       "Pclass           0\n",
       "Name             0\n",
       "Sex              0\n",
       "Age            177\n",
       "SibSp            0\n",
       "Parch            0\n",
       "Ticket           0\n",
       "Fare             0\n",
       "Cabin          687\n",
       "Embarked         2\n",
       "dtype: int64"
      ]
     },
     "execution_count": 2,
     "metadata": {},
     "output_type": "execute_result"
    }
   ],
   "source": [
    "datos = pd.read_csv(\"gender_submission.csv\")\n",
    "df_train = pd.read_csv(\"train.csv\")\n",
    "df_test = pd.read_csv(\"test.csv\")\n",
    "datos.head()\n",
    "df_train.isnull().sum()"
   ]
  },
  {
   "cell_type": "code",
   "execution_count": 3,
   "id": "5558d771",
   "metadata": {},
   "outputs": [],
   "source": [
    "var = [\"PassengerId\",\"Pclass\", \"Sex\",\"SibSp\",\"Parch\",\"Embarked\"]\n",
    "\n",
    "y_train = df_train[\"Survived\"]\n",
    "X_train = pd.get_dummies(df_train[var])\n",
    "X_train = X_train.dropna()\n",
    "X_test = pd.get_dummies(df_test[var])"
   ]
  },
  {
   "cell_type": "code",
   "execution_count": 4,
   "id": "6f689e1b",
   "metadata": {},
   "outputs": [],
   "source": [
    "particiones = KFold(n_splits=10, shuffle=True, random_state=0)\n"
   ]
  },
  {
   "cell_type": "code",
   "execution_count": 5,
   "id": "d69f04df",
   "metadata": {},
   "outputs": [],
   "source": [
    "param_grid = {\"criterion\":[\"gini\",\"entropy\"],\n",
    "              \"max_depth\":[4, 6, 8, 10],\n",
    "              \"min_samples_split\":[2, 3, 4, 5]}"
   ]
  },
  {
   "cell_type": "code",
   "execution_count": 6,
   "id": "faf8aba0",
   "metadata": {},
   "outputs": [],
   "source": [
    "arbol = DecisionTreeClassifier(class_weight=\"balanced\", random_state=0)\n"
   ]
  },
  {
   "cell_type": "code",
   "execution_count": 7,
   "id": "622b6082",
   "metadata": {},
   "outputs": [
    {
     "data": {
      "text/plain": [
       "GridSearchCV(cv=KFold(n_splits=10, random_state=0, shuffle=True),\n",
       "             estimator=DecisionTreeClassifier(class_weight='balanced',\n",
       "                                              random_state=0),\n",
       "             param_grid={'criterion': ['gini', 'entropy'],\n",
       "                         'max_depth': [4, 6, 8, 10],\n",
       "                         'min_samples_split': [2, 3, 4, 5]})"
      ]
     },
     "execution_count": 7,
     "metadata": {},
     "output_type": "execute_result"
    }
   ],
   "source": [
    "mejor_modelo = GridSearchCV(arbol, param_grid, cv=particiones)\n",
    "mejor_modelo.fit(X_train, y_train)"
   ]
  },
  {
   "cell_type": "code",
   "execution_count": 8,
   "id": "346903c8",
   "metadata": {},
   "outputs": [
    {
     "data": {
      "text/plain": [
       "{'criterion': 'entropy', 'max_depth': 8, 'min_samples_split': 5}"
      ]
     },
     "execution_count": 8,
     "metadata": {},
     "output_type": "execute_result"
    }
   ],
   "source": [
    "mejor_modelo.best_params_\n"
   ]
  },
  {
   "cell_type": "code",
   "execution_count": 9,
   "id": "5ae91435",
   "metadata": {},
   "outputs": [],
   "source": [
    "modelo_final = mejor_modelo.best_estimator_\n"
   ]
  },
  {
   "cell_type": "code",
   "execution_count": 10,
   "id": "38da0235",
   "metadata": {},
   "outputs": [],
   "source": [
    "predictions = modelo_final.predict(X_test)"
   ]
  },
  {
   "cell_type": "code",
   "execution_count": 12,
   "id": "35062e92",
   "metadata": {},
   "outputs": [
    {
     "name": "stdout",
     "output_type": "stream",
     "text": [
      "Your submission was successfully saved!\n"
     ]
    }
   ],
   "source": [
    "output = pd.DataFrame({'PassengerId': X_test.PassengerId, 'Survived': predictions})\n",
    "output.to_csv('submission.csv', index=False)\n",
    "print(\"Your submission was successfully saved!\")"
   ]
  },
  {
   "cell_type": "code",
   "execution_count": null,
   "id": "59f8db91",
   "metadata": {},
   "outputs": [],
   "source": []
  }
 ],
 "metadata": {
  "kernelspec": {
   "display_name": "Python 3 (ipykernel)",
   "language": "python",
   "name": "python3"
  },
  "language_info": {
   "codemirror_mode": {
    "name": "ipython",
    "version": 3
   },
   "file_extension": ".py",
   "mimetype": "text/x-python",
   "name": "python",
   "nbconvert_exporter": "python",
   "pygments_lexer": "ipython3",
   "version": "3.9.13"
  }
 },
 "nbformat": 4,
 "nbformat_minor": 5
}
